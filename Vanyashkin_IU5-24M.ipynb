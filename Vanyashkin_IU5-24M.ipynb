{
 "cells": [
  {
   "cell_type": "markdown",
   "execution_count": null,
   "metadata": {},
   "outputs": [],
   "source": [
    "РК1 Ваняшкин Ю. Ю. ИУ5-24М"
   ]
  },
  {
   "cell_type": "code",
   "execution_count": null,
   "metadata": {
    "colab": {},
    "colab_type": "code",
    "id": "Thg8D2CDKerM"
   },
   "outputs": [],
   "source": [
    "import numpy as np\n",
    "import pandas as pd\n",
    "import seaborn as sns\n",
    "import matplotlib.pyplot as plt"
   ]
  },
  {
   "source": [
    "РК1\n",
    "Ваняшкин Ю. Ю. ИУ5-24М"
   ]
  },
  {
   "cell_type": "code",
   "execution_count": null,
   "metadata": {
    "colab": {
     "base_uri": "https://localhost:8080/",
     "height": 51
    },
    "colab_type": "code",
    "id": "eUll5WBwHWQJ",
    "outputId": "0a92ddf3-4e92-4c48-e2b9-62444e4f14b5"
   },
   "outputs": [],
   "source": [
    "from sklearn.datasets import load_iris\n",
    "X, y = load_iris(return_X_y=True)\n",
    "print(X.shape)\n",
    "(506, 13)"
   ]
  },
  {
   "cell_type": "markdown",
   "metadata": {
    "colab_type": "text",
    "id": "cjp74yhcDt2R"
   },
   "source": [
    "Создание Pandas Dataframe"
   ]
  },
  {
   "cell_type": "code",
   "execution_count": null,
   "metadata": {
    "colab": {},
    "colab_type": "code",
    "id": "Gk7NLOf38V43"
   },
   "outputs": [],
   "source": [
    "def make_dataframe(ds_function):\n",
    "    ds = ds_function()\n",
    "    df = pd.DataFrame(data= np.c_[ds['data'], ds['target']],\n",
    "                     columns= list(ds['feature_names']) + ['target'])\n",
    "    return df"
   ]
  },
  {
   "cell_type": "code",
   "execution_count": null,
   "metadata": {
    "colab": {
     "base_uri": "https://localhost:8080/",
     "height": 204
    },
    "colab_type": "code",
    "id": "MNRStgAY8bqW",
    "outputId": "6d87b49f-0347-4ab8-8d54-9ea5c44655da"
   },
   "outputs": [],
   "source": [
    "data = make_dataframe(load_iris)  #Создание датафрейма\n",
    "data.head()                         #Вывод первых 5 строк"
   ]
  },
  {
   "cell_type": "markdown",
   "metadata": {
    "colab_type": "text",
    "id": "4LXWIfafLVGg"
   },
   "source": [
    "Поиск пустых значений в колонках"
   ]
  },
  {
   "cell_type": "code",
   "execution_count": null,
   "metadata": {
    "colab": {
     "base_uri": "https://localhost:8080/",
     "height": 255
    },
    "colab_type": "code",
    "id": "G7JL_MfdC4re",
    "outputId": "af99b42f-16f3-49bc-deb6-8c2a3251e035"
   },
   "outputs": [],
   "source": [
    "for col in data.columns:\n",
    "    # Количество пустых значений\n",
    "    temp_null_count = data[data[col].isnull()].shape[0]\n",
    "    print('{} - {}'.format(col, temp_null_count))\n",
    "    #Пустых значений не обнаружено"
   ]
  },
  {
   "cell_type": "code",
   "execution_count": null,
   "metadata": {
    "colab": {
     "base_uri": "https://localhost:8080/",
     "height": 317
    },
    "colab_type": "code",
    "id": "G4WJT1tXC_5r",
    "outputId": "09dbc5e9-645e-4e33-e885-e9cd7691e340"
   },
   "outputs": [],
   "source": [
    "data.describe() #Описательные статистики"
   ]
  },
  {
   "cell_type": "markdown",
   "metadata": {
    "colab_type": "text",
    "id": "Sdoq5uYkQ2Yf"
   },
   "source": [
    "Распределениие значений целевого признака"
   ]
  },
  {
   "cell_type": "code",
   "execution_count": null,
   "metadata": {
    "colab": {
     "base_uri": "https://localhost:8080/",
     "height": 623
    },
    "colab_type": "code",
    "id": "CSi7kA-pMfon",
    "outputId": "85656630-3d3a-44a9-8b44-2f30d0ba4978"
   },
   "outputs": [],
   "source": [
    "fig, ax = plt.subplots(figsize=(10,10)) \n",
    "sns.distplot(data['target'])"
   ]
  },
  {
   "cell_type": "markdown",
   "metadata": {
    "colab_type": "text",
    "id": "_X_njtR0TAhm"
   },
   "source": [
    "Распределение похоже на нормальное"
   ]
  },
  {
   "cell_type": "markdown",
   "metadata": {
    "colab_type": "text",
    "id": "sxPH0xWYRIf5"
   },
   "source": [
    "Парные диаграммы для понимания общей картины"
   ]
  },
  {
   "cell_type": "code",
   "execution_count": null,
   "metadata": {
    "colab": {
     "base_uri": "https://localhost:8080/",
     "height": 1000
    },
    "colab_type": "code",
    "id": "kOu-ylxmdbhT",
    "outputId": "5ca7deb1-79f3-4b40-87b0-0df7e3daaf84"
   },
   "outputs": [],
   "source": [
    "sns.pairplot(data)"
   ]
  },
  {
   "cell_type": "markdown",
   "metadata": {
    "colab_type": "text",
    "id": "EQpDaeo0Xf0H"
   },
   "source": [
    "Находим почти линейную зависимость между значениями двух колонок "
   ]
  },
  {
   "cell_type": "code",
   "execution_count": null,
   "metadata": {
    "colab": {
     "base_uri": "https://localhost:8080/",
     "height": 623
    },
    "colab_type": "code",
    "id": "DzZL5OTdXPlD",
    "outputId": "2bb40b4d-0602-4567-bd59-c9fd7206a164"
   },
   "outputs": [],
   "source": [
    "fig, ax = plt.subplots(figsize=(10,10)) \n",
    "sns.scatterplot(ax=ax, data=data)"
   ]
  },
  {
   "cell_type": "code",
   "execution_count": null,
   "metadata": {
    "colab": {
     "base_uri": "https://localhost:8080/",
     "height": 302
    },
    "colab_type": "code",
    "id": "nDESye8ngvr4",
    "outputId": "489168a9-a476-47f2-b71d-2e4da1601341"
   },
   "outputs": [],
   "source": [
    "sns.violinplot(x=data['sepal width (cm)'])"
   ]
  },
  {
   "cell_type": "markdown",
   "metadata": {
    "colab_type": "text",
    "id": "Z5Q7wKOgZwmV"
   },
   "source": [
    "По violin plot видим, что распределение бимодальное."
   ]
  },
  {
   "cell_type": "markdown",
   "metadata": {
    "colab_type": "text",
    "id": "VIuWNCQcRTtT"
   },
   "source": []
  },
  {
   "cell_type": "code",
   "execution_count": null,
   "metadata": {
    "colab": {
     "base_uri": "https://localhost:8080/",
     "height": 269
    },
    "colab_type": "code",
    "id": "76gGSy1ielvv",
    "outputId": "2739f6cd-d4ba-4fd9-dd67-a528deeac04a"
   },
   "outputs": [],
   "source": [
    "sns.boxplot(y=data['sepal width (cm)'])"
   ]
  },
  {
   "cell_type": "markdown",
   "metadata": {
    "colab_type": "text",
    "id": "tF-Ct6BoSqLo"
   },
   "source": [
    "**Корреляционный анализ**\n",
    "\n"
   ]
  },
  {
   "cell_type": "markdown",
   "metadata": {
    "colab_type": "text",
    "id": "x6qmuoRbTYfm"
   },
   "source": [
    "Построим корреляционную матрицу"
   ]
  },
  {
   "cell_type": "code",
   "execution_count": null,
   "metadata": {
    "colab": {
     "base_uri": "https://localhost:8080/",
     "height": 503
    },
    "colab_type": "code",
    "id": "IEuOBC0Rk1Tx",
    "outputId": "a12db092-cdb5-48cc-b15e-d6ade21a49d9"
   },
   "outputs": [],
   "source": [
    "data.corr()"
   ]
  },
  {
   "cell_type": "markdown",
   "metadata": {
    "colab_type": "text",
    "id": "zWThe8d5Te6n"
   },
   "source": [
    "Также построим матрицу корреляций по Пирсону"
   ]
  },
  {
   "cell_type": "code",
   "execution_count": null,
   "metadata": {
    "colab": {
     "base_uri": "https://localhost:8080/",
     "height": 318
    },
    "colab_type": "code",
    "id": "5-Df5BQRTqB_",
    "outputId": "39ccc783-7bcd-4573-e004-52e1b8bc4911"
   },
   "outputs": [],
   "source": [
    "# Треугольный вариант матрицы Пирсона\n",
    "mask = np.zeros_like(data.corr(), dtype=np.bool)\n",
    "mask[np.tril_indices_from(mask)] = True\n",
    "sns.heatmap(data.corr(), mask=mask, annot=True, fmt='.1f')"
   ]
  },
  {
   "cell_type": "markdown",
   "metadata": {
    "colab_type": "text",
    "id": "dJYORtqEVaFQ"
   },
   "source": [
    "Выявлена корреляция между показателями RAD и TAX"
   ]
  },
  {
   "cell_type": "markdown",
   "metadata": {
    "colab_type": "text",
    "id": "mAyYDrFcW2kr"
   },
   "source": [
    "Использовав Solar correlation map, получаем ту же зависимость"
   ]
  },
  {
   "cell_type": "markdown",
   "metadata": {
    "colab_type": "text",
    "id": "8W4gLG6rONgS"
   },
   "source": [
    "![alt text](https://www.oreilly.com/content/wp-content/uploads/sites/2/2019/06/image03-ed83fc425039627301882be4b06e32a5.png)"
   ]
  },
  {
   "cell_type": "code",
   "execution_count": null,
   "metadata": {},
   "outputs": [],
   "source": []
  }
 ],
 "metadata": {
  "colab": {
   "collapsed_sections": [],
   "name": "RK1 Bogomolov IU5-23M.ipynb",
   "provenance": []
  },
  "kernelspec": {
   "display_name": "Python 3",
   "language": "python",
   "name": "python3"
  },
  "language_info": {
   "codemirror_mode": {
    "name": "ipython",
    "version": 3
   },
   "file_extension": ".py",
   "mimetype": "text/x-python",
   "name": "python",
   "nbconvert_exporter": "python",
   "pygments_lexer": "ipython3",
   "version": "3.7.1"
  }
 },
 "nbformat": 4,
 "nbformat_minor": 1
}